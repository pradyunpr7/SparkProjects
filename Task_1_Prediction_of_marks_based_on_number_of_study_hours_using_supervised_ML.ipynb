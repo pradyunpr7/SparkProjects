{
  "nbformat": 4,
  "nbformat_minor": 5,
  "metadata": {
    "kernelspec": {
      "display_name": "Python 3",
      "language": "python",
      "name": "python3"
    },
    "language_info": {
      "codemirror_mode": {
        "name": "ipython",
        "version": 3
      },
      "file_extension": ".py",
      "mimetype": "text/x-python",
      "name": "python",
      "nbconvert_exporter": "python",
      "pygments_lexer": "ipython3",
      "version": "3.8.8"
    },
    "colab": {
      "name": "Task 1 Prediction of marks based on number of study hours using supervised ML.ipynb",
      "provenance": [],
      "collapsed_sections": [],
      "include_colab_link": true
    }
  },
  "cells": [
    {
      "cell_type": "markdown",
      "metadata": {
        "id": "view-in-github",
        "colab_type": "text"
      },
      "source": [
        "<a href=\"https://colab.research.google.com/github/pradyunpr7/SparkProjects/blob/main/Task_1_Prediction_of_marks_based_on_number_of_study_hours_using_supervised_ML.ipynb\" target=\"_parent\"><img src=\"https://colab.research.google.com/assets/colab-badge.svg\" alt=\"Open In Colab\"/></a>"
      ]
    },
    {
      "cell_type": "markdown",
      "metadata": {
        "id": "2b17bfbd"
      },
      "source": [
        "# Prediction of marks  using supervised ML"
      ],
      "id": "2b17bfbd"
    },
    {
      "cell_type": "markdown",
      "metadata": {
        "id": "XxcxiOmZ97pC"
      },
      "source": [
        "**Author: Bollepally Pradyun Reddy**"
      ],
      "id": "XxcxiOmZ97pC"
    },
    {
      "cell_type": "markdown",
      "metadata": {
        "id": "aeeda2bf"
      },
      "source": [
        "**Aim**:To predict the marks of a student based on number of study hours"
      ],
      "id": "aeeda2bf"
    },
    {
      "cell_type": "code",
      "metadata": {
        "id": "c624428e"
      },
      "source": [
        "#Importing all libraries required in this notebook\n",
        "import pandas as pd\n",
        "import numpy as np\n",
        "import matplotlib.pyplot as plt\n",
        "%matplotlib inline"
      ],
      "id": "c624428e",
      "execution_count": null,
      "outputs": []
    },
    {
      "cell_type": "code",
      "metadata": {
        "colab": {
          "base_uri": "https://localhost:8080/"
        },
        "id": "66fade16",
        "outputId": "2657af09-7563-4b8f-cb6d-8b775cdf51f2"
      },
      "source": [
        "#reading data from remote link\n",
        "data_set = \"http://bit.ly/w-data\"\n",
        "data = pd.read_csv(data_set)\n",
        "print(\"Data imported sucessfully\")\n"
      ],
      "id": "66fade16",
      "execution_count": null,
      "outputs": [
        {
          "output_type": "stream",
          "text": [
            "Data imported sucessfully\n"
          ],
          "name": "stdout"
        }
      ]
    },
    {
      "cell_type": "code",
      "metadata": {
        "id": "qxYBZkhAqpn9",
        "colab": {
          "base_uri": "https://localhost:8080/",
          "height": 295
        },
        "outputId": "26a50bed-4040-4d2f-8248-03ee663c3858"
      },
      "source": [
        "# Plotting the distribution of scores\n",
        "data.plot(x='Hours', y='Scores', style='o')  \n",
        "plt.title('Hours vs Percentage')  \n",
        "plt.xlabel('Hours Studied')  \n",
        "plt.ylabel('Percentage Score')  \n",
        "plt.show()"
      ],
      "id": "qxYBZkhAqpn9",
      "execution_count": null,
      "outputs": [
        {
          "output_type": "display_data",
          "data": {
            "image/png": "[encoded data removed]",
            "text/plain": [
              "<Figure size 432x288 with 1 Axes>"
            ]
          },
          "metadata": {
            "tags": [],
            "needs_background": "light"
          }
        }
      ]
    },
    {
      "cell_type": "markdown",
      "metadata": {
        "id": "33b2fc8b"
      },
      "source": [
        "# From the graph above, we can clearly see that there is a positive linear relation between the number of hours studied and percentage of scores."
      ],
      "id": "33b2fc8b"
    },
    {
      "cell_type": "markdown",
      "metadata": {
        "id": "5ad8b8f8"
      },
      "source": [
        "# Preparing the data\n",
        "\n",
        "The next step is to divide data into \"attributes\"(inputs) and \"labels\"(outputs)."
      ],
      "id": "5ad8b8f8"
    },
    {
      "cell_type": "code",
      "metadata": {
        "colab": {
          "base_uri": "https://localhost:8080/"
        },
        "id": "f1cd3827",
        "outputId": "00bb8ed9-da1e-46a3-9609-e0b92d3e8b7c"
      },
      "source": [
        "x = data[['Hours']]\n",
        "y = data[['Scores']]\n",
        "print(x)\n",
        "print(y)"
      ],
      "id": "f1cd3827",
      "execution_count": null,
      "outputs": [
        {
          "output_type": "stream",
          "text": [
            "    Hours\n",
            "0     2.5\n",
            "1     5.1\n",
            "2     3.2\n",
            "3     8.5\n",
            "4     3.5\n",
            "5     1.5\n",
            "6     9.2\n",
            "7     5.5\n",
            "8     8.3\n",
            "9     2.7\n",
            "10    7.7\n",
            "11    5.9\n",
            "12    4.5\n",
            "13    3.3\n",
            "14    1.1\n",
            "15    8.9\n",
            "16    2.5\n",
            "17    1.9\n",
            "18    6.1\n",
            "19    7.4\n",
            "20    2.7\n",
            "21    4.8\n",
            "22    3.8\n",
            "23    6.9\n",
            "24    7.8\n",
            "    Scores\n",
            "0       21\n",
            "1       47\n",
            "2       27\n",
            "3       75\n",
            "4       30\n",
            "5       20\n",
            "6       88\n",
            "7       60\n",
            "8       81\n",
            "9       25\n",
            "10      85\n",
            "11      62\n",
            "12      41\n",
            "13      42\n",
            "14      17\n",
            "15      95\n",
            "16      30\n",
            "17      24\n",
            "18      67\n",
            "19      69\n",
            "20      30\n",
            "21      54\n",
            "22      35\n",
            "23      76\n",
            "24      86\n"
          ],
          "name": "stdout"
        }
      ]
    },
    {
      "cell_type": "markdown",
      "metadata": {
        "id": "825a3917"
      },
      "source": [
        "Now that we have our attributes and labels,the next step is to split this data into training andtest sets. We'll do this by using Sckikit.Learn's biult-in train_test_split() method"
      ],
      "id": "825a3917"
    },
    {
      "cell_type": "code",
      "metadata": {
        "id": "2c24b73a"
      },
      "source": [
        "from sklearn.model_selection import train_test_split\n",
        "x_train, x_test1 , y_train, y_test1 = train_test_split( x, y, test_size=0.2, random_state=0)\n"
      ],
      "id": "2c24b73a",
      "execution_count": null,
      "outputs": []
    },
    {
      "cell_type": "markdown",
      "metadata": {
        "id": "c01899d6"
      },
      "source": [
        "# Training the Algorithm"
      ],
      "id": "c01899d6"
    },
    {
      "cell_type": "markdown",
      "metadata": {
        "id": "3c2939b2"
      },
      "source": [
        "We have split our data into training and testing sets, and now is finally the time to train our algorithm."
      ],
      "id": "3c2939b2"
    },
    {
      "cell_type": "code",
      "metadata": {
        "colab": {
          "base_uri": "https://localhost:8080/"
        },
        "id": "9d1e36c4",
        "outputId": "035991fe-174a-4618-8bfb-78f28b1ef0bb"
      },
      "source": [
        "from sklearn.linear_model import LinearRegression\n",
        "regressor = LinearRegression()\n",
        "regressor.fit(x_train,y_train)\n",
        "#training complete\n"
      ],
      "id": "9d1e36c4",
      "execution_count": null,
      "outputs": [
        {
          "output_type": "execute_result",
          "data": {
            "text/plain": [
              "LinearRegression(copy_X=True, fit_intercept=True, n_jobs=None, normalize=False)"
            ]
          },
          "metadata": {
            "tags": []
          },
          "execution_count": 20
        }
      ]
    },
    {
      "cell_type": "code",
      "metadata": {
        "colab": {
          "base_uri": "https://localhost:8080/",
          "height": 295
        },
        "id": "ef06477f",
        "outputId": "f17d2b43-8869-44fe-f6c7-fa56f87a1930"
      },
      "source": [
        "#plotting the regression line\n",
        "line = regressor.coef_*x + regressor.intercept_\n",
        "#plotting for the test data\n",
        "plt.scatter(x,y)\n",
        "plt.plot(x,line)\n",
        "plt.title(\"Comparison\")\n",
        "plt.xlabel('Hours studied')\n",
        "plt.ylabel('Marks Obtained')\n",
        "plt.show()\n",
        "\n",
        "\n"
      ],
      "id": "ef06477f",
      "execution_count": null,
      "outputs": [
        {
          "output_type": "display_data",
          "data": {
            "image/png": "[encoded data removed]",
            "text/plain": [
              "<Figure size 432x288 with 1 Axes>"
            ]
          },
          "metadata": {
            "tags": [],
            "needs_background": "light"
          }
        }
      ]
    },
    {
      "cell_type": "code",
      "metadata": {
        "colab": {
          "base_uri": "https://localhost:8080/"
        },
        "id": "50252f65",
        "outputId": "9fb98ef6-9f34-4de9-c44e-63a1ae891403"
      },
      "source": [
        "\n",
        "y_pred = regressor.predict(x_test1)#predicting the scores\n",
        "print(y_pred)"
      ],
      "id": "50252f65",
      "execution_count": null,
      "outputs": [
        {
          "output_type": "stream",
          "text": [
            "[[16.88414476]\n",
            " [33.73226078]\n",
            " [75.357018  ]\n",
            " [26.79480124]\n",
            " [60.49103328]]\n"
          ],
          "name": "stdout"
        }
      ]
    },
    {
      "cell_type": "markdown",
      "metadata": {
        "id": "ebe5507d"
      },
      "source": [
        "# Making Predictions\n",
        "\n",
        "Now that we have trained our algorithm,it's time to make some predictions"
      ],
      "id": "ebe5507d"
    },
    {
      "cell_type": "code",
      "metadata": {
        "colab": {
          "base_uri": "https://localhost:8080/"
        },
        "id": "77c122a0",
        "outputId": "6b9461b7-8ca7-4364-c192-1d5bdd88812b"
      },
      "source": [
        "y1=y_test1.iloc[:, :1].values\n",
        "print(y1)\n",
        "print(y_pred)"
      ],
      "id": "77c122a0",
      "execution_count": null,
      "outputs": [
        {
          "output_type": "stream",
          "text": [
            "[[20]\n",
            " [27]\n",
            " [69]\n",
            " [30]\n",
            " [62]]\n",
            "[[16.88414476]\n",
            " [33.73226078]\n",
            " [75.357018  ]\n",
            " [26.79480124]\n",
            " [60.49103328]]\n"
          ],
          "name": "stdout"
        }
      ]
    },
    {
      "cell_type": "code",
      "metadata": {
        "colab": {
          "base_uri": "https://localhost:8080/",
          "height": 206
        },
        "id": "734af223",
        "outputId": "0a3c3ae6-73b5-436e-a727-2b5ffff1816f"
      },
      "source": [
        "\n",
        "df = pd.DataFrame({'Actual': [20,\n",
        " 27,\n",
        " 69,\n",
        " 30,\n",
        " 62], 'Predicted': [,\n",
        " 27,\n",
        " 69,\n",
        " 30,\n",
        " 62]}) \n",
        "df\n"
      ],
      "id": "734af223",
      "execution_count": null,
      "outputs": [
        {
          "output_type": "execute_result",
          "data": {
            "text/html": [
              "<div>\n",
              "<style scoped>\n",
              "    .dataframe tbody tr th:only-of-type {\n",
              "        vertical-align: middle;\n",
              "    }\n",
              "\n",
              "    .dataframe tbody tr th {\n",
              "        vertical-align: top;\n",
              "    }\n",
              "\n",
              "    .dataframe thead th {\n",
              "        text-align: right;\n",
              "    }\n",
              "</style>\n",
              "<table border=\"1\" class=\"dataframe\">\n",
              "  <thead>\n",
              "    <tr style=\"text-align: right;\">\n",
              "      <th></th>\n",
              "      <th>Actual</th>\n",
              "      <th>Predicted</th>\n",
              "    </tr>\n",
              "  </thead>\n",
              "  <tbody>\n",
              "    <tr>\n",
              "      <th>0</th>\n",
              "      <td>20</td>\n",
              "      <td>20</td>\n",
              "    </tr>\n",
              "    <tr>\n",
              "      <th>1</th>\n",
              "      <td>27</td>\n",
              "      <td>27</td>\n",
              "    </tr>\n",
              "    <tr>\n",
              "      <th>2</th>\n",
              "      <td>69</td>\n",
              "      <td>69</td>\n",
              "    </tr>\n",
              "    <tr>\n",
              "      <th>3</th>\n",
              "      <td>30</td>\n",
              "      <td>30</td>\n",
              "    </tr>\n",
              "    <tr>\n",
              "      <th>4</th>\n",
              "      <td>62</td>\n",
              "      <td>62</td>\n",
              "    </tr>\n",
              "  </tbody>\n",
              "</table>\n",
              "</div>"
            ],
            "text/plain": [
              "   Actual  Predicted\n",
              "0      20         20\n",
              "1      27         27\n",
              "2      69         69\n",
              "3      30         30\n",
              "4      62         62"
            ]
          },
          "metadata": {
            "tags": []
          },
          "execution_count": 40
        }
      ]
    },
    {
      "cell_type": "code",
      "metadata": {
        "colab": {
          "base_uri": "https://localhost:8080/"
        },
        "id": "GsLCvdE_7VCO",
        "outputId": "6b9461b7-8ca7-4364-c192-1d5bdd88812b"
      },
      "source": [
        "y1=y_test1.iloc[:, :1].values\n",
        "print(y1)\n",
        "print(y_pred)"
      ],
      "id": "GsLCvdE_7VCO",
      "execution_count": null,
      "outputs": [
        {
          "output_type": "stream",
          "text": [
            "[[20]\n",
            " [27]\n",
            " [69]\n",
            " [30]\n",
            " [62]]\n",
            "[[16.88414476]\n",
            " [33.73226078]\n",
            " [75.357018  ]\n",
            " [26.79480124]\n",
            " [60.49103328]]\n"
          ],
          "name": "stdout"
        }
      ]
    },
    {
      "cell_type": "code",
      "metadata": {
        "colab": {
          "base_uri": "https://localhost:8080/",
          "height": 206
        },
        "id": "zU41K0W37ZPZ",
        "outputId": "c9310743-ae36-4907-b9d2-1cec071638d4"
      },
      "source": [
        "df = pd.DataFrame({'Actual' : [20,\n",
        " 27,\n",
        " 69,\n",
        " 30,\n",
        " 62], 'Predicted' : [16.88414476,\n",
        " 33.73226078,\n",
        " 75.357018 , \n",
        " 26.79480124,\n",
        " 60.49103328]})\n",
        "df\n"
      ],
      "id": "zU41K0W37ZPZ",
      "execution_count": null,
      "outputs": [
        {
          "output_type": "execute_result",
          "data": {
            "text/html": [
              "<div>\n",
              "<style scoped>\n",
              "    .dataframe tbody tr th:only-of-type {\n",
              "        vertical-align: middle;\n",
              "    }\n",
              "\n",
              "    .dataframe tbody tr th {\n",
              "        vertical-align: top;\n",
              "    }\n",
              "\n",
              "    .dataframe thead th {\n",
              "        text-align: right;\n",
              "    }\n",
              "</style>\n",
              "<table border=\"1\" class=\"dataframe\">\n",
              "  <thead>\n",
              "    <tr style=\"text-align: right;\">\n",
              "      <th></th>\n",
              "      <th>Actual</th>\n",
              "      <th>Predicted</th>\n",
              "    </tr>\n",
              "  </thead>\n",
              "  <tbody>\n",
              "    <tr>\n",
              "      <th>0</th>\n",
              "      <td>20</td>\n",
              "      <td>16.884145</td>\n",
              "    </tr>\n",
              "    <tr>\n",
              "      <th>1</th>\n",
              "      <td>27</td>\n",
              "      <td>33.732261</td>\n",
              "    </tr>\n",
              "    <tr>\n",
              "      <th>2</th>\n",
              "      <td>69</td>\n",
              "      <td>75.357018</td>\n",
              "    </tr>\n",
              "    <tr>\n",
              "      <th>3</th>\n",
              "      <td>30</td>\n",
              "      <td>26.794801</td>\n",
              "    </tr>\n",
              "    <tr>\n",
              "      <th>4</th>\n",
              "      <td>62</td>\n",
              "      <td>60.491033</td>\n",
              "    </tr>\n",
              "  </tbody>\n",
              "</table>\n",
              "</div>"
            ],
            "text/plain": [
              "   Actual  Predicted\n",
              "0      20  16.884145\n",
              "1      27  33.732261\n",
              "2      69  75.357018\n",
              "3      30  26.794801\n",
              "4      62  60.491033"
            ]
          },
          "metadata": {
            "tags": []
          },
          "execution_count": 41
        }
      ]
    },
    {
      "cell_type": "markdown",
      "metadata": {
        "id": "861f5dee"
      },
      "source": [
        "# Evaluating the Model\n"
      ],
      "id": "861f5dee"
    },
    {
      "cell_type": "code",
      "metadata": {
        "colab": {
          "base_uri": "https://localhost:8080/"
        },
        "id": "kSg3Hdwb9Dqz",
        "outputId": "27a73c93-b28d-48f9-c395-c02eaa586b7b"
      },
      "source": [
        "score_pred=np.array([9.25])\n",
        "score_pred=score_pred.reshape(-1,1)\n",
        "predict=regressor.predict(score_pred)\n",
        "print(\"No of Hours={}\".format(9.25))\n",
        "print(\"predicted score={}\".format(predict[0]))"
      ],
      "id": "kSg3Hdwb9Dqz",
      "execution_count": null,
      "outputs": [
        {
          "output_type": "stream",
          "text": [
            "No of Hours=9.25\n",
            "predicted score=[93.69173249]\n"
          ],
          "name": "stdout"
        }
      ]
    },
    {
      "cell_type": "code",
      "metadata": {
        "id": "66f9f364",
        "outputId": "380a54ca-bfd6-487a-b802-989401f1c139"
      },
      "source": [
        "from sklearn import metrics\n",
        "print('Mean Absolute Error is:',metrics.mean_absolute_error(y1, y_pred))"
      ],
      "id": "66f9f364",
      "execution_count": null,
      "outputs": [
        {
          "output_type": "stream",
          "text": [
            "Mean Absolute Error: 4.183859899002975\n"
          ],
          "name": "stdout"
        }
      ]
    }
  ]
}